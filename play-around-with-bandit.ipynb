{
 "cells": [
  {
   "cell_type": "code",
   "execution_count": 1,
   "metadata": {
    "collapsed": false
   },
   "outputs": [
    {
     "name": "stdout",
     "output_type": "stream",
     "text": [
      "Let's play with Bandit!!\n"
     ]
    }
   ],
   "source": [
    "print \"Let's play with Bandit!!\""
   ]
  },
  {
   "cell_type": "code",
   "execution_count": 17,
   "metadata": {
    "collapsed": false
   },
   "outputs": [],
   "source": [
    "import random as rdm\n",
    "\n",
    "class EpsilonGreedy():\n",
    "    def __init__(self, epsilon, counts, values):\n",
    "        self.epsilon = epsilon \n",
    "        self.counts = counts \n",
    "        self.values = values \n",
    "        return\n",
    "    \n",
    "    def initialize(self, n_arms):\n",
    "        self.counts = [0 for col in range(n_arms)] \n",
    "        self.values = [0.0 for col in range(n_arms)] \n",
    "        return\n",
    "    \n",
    "    def ind_max(x):\n",
    "        m = max(x) \n",
    "        return x.index(m)\n",
    "\n",
    "    def select_arm(self):\n",
    "        if rdm.random() > self.epsilon:\n",
    "            return ind_max(self.values) \n",
    "        else:\n",
    "            return rdm.randrange(len(self.values))\n",
    "\n",
    "    def update(self, chosen_arm, reward): \n",
    "        self.counts[chosen_arm] = self.counts[chosen_arm] + 1 \n",
    "        n = self.counts[chosen_arm]\n",
    "        value = self.values[chosen_arm]\n",
    "        new_value = ((n - 1) / float(n)) * value + (1 / float(n)) * reward \n",
    "        self.values[chosen_arm] = new_value\n",
    "        return"
   ]
  },
  {
   "cell_type": "code",
   "execution_count": 21,
   "metadata": {
    "collapsed": false
   },
   "outputs": [],
   "source": [
    "class BernoulliArm(): \n",
    "    def __init__(self, p):\n",
    "        self.p = p\n",
    "        \n",
    "    def draw(self):\n",
    "        if rdm.random() > self.p:\n",
    "            return 0.0 \n",
    "        else:\n",
    "            return 1.0"
   ]
  },
  {
   "cell_type": "code",
   "execution_count": 25,
   "metadata": {
    "collapsed": false
   },
   "outputs": [],
   "source": [
    "means = [0.1, 0.1, 0.1, 0.1, 0.9]\n",
    "n_arms = len(means)\n",
    "rdm.shuffle(means)\n",
    "arms = map(lambda (mu): BernoulliArm(mu), means)"
   ]
  },
  {
   "cell_type": "code",
   "execution_count": 35,
   "metadata": {
    "collapsed": false
   },
   "outputs": [
    {
     "name": "stdout",
     "output_type": "stream",
     "text": [
      "[0.0, 1.0, 0.0, 0.0, 0.0]\n",
      "\n",
      "[0.0, 1.0, 0.0, 0.0, 0.0]\n",
      "\n",
      "[0.0, 1.0, 0.0, 0.0, 0.0]\n",
      "\n",
      "[0.0, 1.0, 0.0, 1.0, 0.0]\n",
      "\n",
      "[1.0, 1.0, 0.0, 1.0, 0.0]\n",
      "\n",
      "[0.0, 0.0, 0.0, 0.0, 0.0]\n",
      "\n",
      "[0.0, 1.0, 0.0, 1.0, 0.0]\n",
      "\n",
      "[0.0, 1.0, 0.0, 0.0, 0.0]\n",
      "\n",
      "[0.0, 1.0, 1.0, 0.0, 0.0]\n",
      "\n",
      "[0.0, 1.0, 0.0, 0.0, 0.0]\n",
      "\n"
     ]
    }
   ],
   "source": [
    "# Let's play a little with arms...\n",
    "\n",
    "nTrials = 10\n",
    "\n",
    "for trial in range(nTrials):\n",
    "    trial = [arms[i].draw() for i in range(len(arms))]\n",
    "    print trial\n",
    "    print \"\""
   ]
  },
  {
   "cell_type": "code",
   "execution_count": 36,
   "metadata": {
    "collapsed": true
   },
   "outputs": [],
   "source": [
    "def test_algorithm(algo, arms, num_sims, horizon):\n",
    "    chosen_arms = [0.0 for i in range(num_sims * horizon)] \n",
    "    rewards = [0.0 for i in range(num_sims * horizon)] \n",
    "    cumulative_rewards = [0.0 for i in range(num_sims * horizon)] \n",
    "    sim_nums = [0.0 for i in range(num_sims * horizon)]\n",
    "    times = [0.0 for i in range(num_sims * horizon)]\n",
    "    \n",
    "    for sim in range(num_sims): \n",
    "        sim=sim+1 \n",
    "        algo.initialize(len(arms))\n",
    "        \n",
    "        for t in range(horizon):\n",
    "            t=t+1 \n",
    "            index=(sim-1)*horizon+t-1\n",
    "            \n",
    "            sim_nums[index] = sim\n",
    "            times[index] = t\n",
    "            chosen_arm = algo.select_arm()\n",
    "            chosen_arms[index] = chosen_arm\n",
    "            reward = arms[chosen_arms[index]].draw()\n",
    "            rewards[index] = reward\n",
    "            \n",
    "            if t == 1: \n",
    "                cumulative_rewards[index] = reward\n",
    "            else:\n",
    "                cumulative_rewards[index] = cumulative_rewards[index - 1] + reward\n",
    "\n",
    "            algo.update(chosen_arm, reward)\n",
    "    return [sim_nums, times, chosen_arms, rewards, cumulative_rewards]"
   ]
  },
  {
   "cell_type": "code",
   "execution_count": null,
   "metadata": {
    "collapsed": true
   },
   "outputs": [],
   "source": []
  }
 ],
 "metadata": {
  "anaconda-cloud": {},
  "kernelspec": {
   "display_name": "Python [conda root]",
   "language": "python",
   "name": "conda-root-py"
  },
  "language_info": {
   "codemirror_mode": {
    "name": "ipython",
    "version": 2
   },
   "file_extension": ".py",
   "mimetype": "text/x-python",
   "name": "python",
   "nbconvert_exporter": "python",
   "pygments_lexer": "ipython2",
   "version": "2.7.12"
  }
 },
 "nbformat": 4,
 "nbformat_minor": 0
}
